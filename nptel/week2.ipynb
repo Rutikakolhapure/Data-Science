{
 "cells": [
  {
   "cell_type": "markdown",
   "id": "0d0cdc87",
   "metadata": {},
   "source": [
    "##### Sequence datatype object initializations"
   ]
  },
  {
   "cell_type": "code",
   "execution_count": 2,
   "id": "533204e1",
   "metadata": {},
   "outputs": [],
   "source": [
    "strSample = 'leaning is fun !'"
   ]
  },
  {
   "cell_type": "code",
   "execution_count": 3,
   "id": "301f4da5",
   "metadata": {},
   "outputs": [],
   "source": [
    "lstSample = [1,2,'a','sam',2]"
   ]
  },
  {
   "cell_type": "code",
   "execution_count": 4,
   "id": "56e33ab5",
   "metadata": {},
   "outputs": [],
   "source": [
    "from array import *"
   ]
  },
  {
   "cell_type": "code",
   "execution_count": 5,
   "id": "8b0f0280",
   "metadata": {},
   "outputs": [],
   "source": [
    "arrSample = array('i',[1,2,3,4])"
   ]
  },
  {
   "cell_type": "code",
   "execution_count": 6,
   "id": "c09d88c4",
   "metadata": {},
   "outputs": [],
   "source": [
    "tupSample = (1,2,3,4,3,'py')"
   ]
  },
  {
   "cell_type": "code",
   "execution_count": 7,
   "id": "6e582b44",
   "metadata": {},
   "outputs": [],
   "source": [
    "dictSample = {1:'first', 'second':2, 3:3, 'four':4}"
   ]
  },
  {
   "cell_type": "code",
   "execution_count": 8,
   "id": "9035fbad",
   "metadata": {},
   "outputs": [
    {
     "name": "stdout",
     "output_type": "stream",
     "text": [
      "1\n",
      "5\n",
      "9\n"
     ]
    }
   ],
   "source": [
    "setSample = {'example',24,87.5,'data',24,'data'}\n",
    "keys = (1,'second',3,'four')\n",
    "rangeSample = range(1,12,4)\n",
    "for x in rangeSample: print(x)"
   ]
  },
  {
   "cell_type": "markdown",
   "id": "a69a494c",
   "metadata": {},
   "source": [
    "##### len(object)"
   ]
  },
  {
   "cell_type": "code",
   "execution_count": 9,
   "id": "8e748f84",
   "metadata": {},
   "outputs": [
    {
     "name": "stdout",
     "output_type": "stream",
     "text": [
      "No. of elements in the object :\n",
      "string = 16, list=5, array=4, tuple =6,    dictionary=4, set = 4, range=3\n"
     ]
    }
   ],
   "source": [
    "print(\"No. of elements in the object :\")\n",
    "\n",
    "print(\"string = {}, list={}, array={}, tuple ={},\\\n",
    "    dictionary={}, set = {}, range={}\".format(len(strSample),len(lstSample),len(arrSample),len(tupSample),len(dictSample),len(setSample),len(rangeSample)))"
   ]
  },
  {
   "cell_type": "code",
   "execution_count": 10,
   "id": "ff1f283f",
   "metadata": {},
   "outputs": [
    {
     "name": "stdout",
     "output_type": "stream",
     "text": [
      "[2, 'sam', 'a', 2, 1]\n"
     ]
    }
   ],
   "source": [
    "lstSample.reverse()\n",
    "print(lstSample)"
   ]
  },
  {
   "cell_type": "markdown",
   "id": "ced12406",
   "metadata": {},
   "source": [
    "##### clear()\n",
    "only supported by:\n",
    "* list\n",
    "* dictionary\n",
    "* set"
   ]
  },
  {
   "cell_type": "code",
   "execution_count": 11,
   "id": "443ed941",
   "metadata": {},
   "outputs": [
    {
     "name": "stdout",
     "output_type": "stream",
     "text": [
      "[]\n"
     ]
    }
   ],
   "source": [
    "lstSample.clear()\n",
    "print(lstSample)"
   ]
  },
  {
   "cell_type": "code",
   "execution_count": 12,
   "id": "ba1ef712",
   "metadata": {},
   "outputs": [
    {
     "name": "stdout",
     "output_type": "stream",
     "text": [
      "{}\n"
     ]
    }
   ],
   "source": [
    "dictSample.clear()\n",
    "print(dictSample)"
   ]
  },
  {
   "cell_type": "code",
   "execution_count": 13,
   "id": "d3840151",
   "metadata": {},
   "outputs": [
    {
     "name": "stdout",
     "output_type": "stream",
     "text": [
      "set()\n"
     ]
    }
   ],
   "source": [
    "setSample.clear()\n",
    "print(setSample)"
   ]
  },
  {
   "cell_type": "markdown",
   "id": "0f2ee7d0",
   "metadata": {},
   "source": [
    "##### append()\n",
    "* Array\n",
    "* List\n",
    "* set"
   ]
  },
  {
   "cell_type": "code",
   "execution_count": 14,
   "id": "09488bee",
   "metadata": {},
   "outputs": [
    {
     "name": "stdout",
     "output_type": "stream",
     "text": [
      "array('i', [1, 2, 3, 4, 3])\n"
     ]
    }
   ],
   "source": [
    "arrSample.append(3)\n",
    "print(arrSample)"
   ]
  },
  {
   "cell_type": "code",
   "execution_count": 15,
   "id": "f4af55cd",
   "metadata": {},
   "outputs": [],
   "source": [
    "lstSample = [1,2,'a','sam',2]"
   ]
  },
  {
   "cell_type": "code",
   "execution_count": 16,
   "id": "75de7611",
   "metadata": {},
   "outputs": [
    {
     "name": "stdout",
     "output_type": "stream",
     "text": [
      "[1, 2, 'a', 'sam', 2, [2, 4]]\n"
     ]
    }
   ],
   "source": [
    "lstSample.append([2,4])\n",
    "print(lstSample)"
   ]
  },
  {
   "cell_type": "code",
   "execution_count": 17,
   "id": "4a49d77b",
   "metadata": {},
   "outputs": [
    {
     "name": "stdout",
     "output_type": "stream",
     "text": [
      "{1, 2, 3, 4, 5, 20}\n"
     ]
    }
   ],
   "source": [
    "setSample = {1,2,3,4,5,3,2,1}\n",
    "setSample.add(20) #.append() not supported by set #.add() can only take single value at a time\n",
    "print(setSample)"
   ]
  },
  {
   "cell_type": "markdown",
   "id": "5a0ce85c",
   "metadata": {},
   "source": [
    "##### Update() function in set adds elements from a set (passed as an argument) to the set\n",
    "* method takes only single argument\n",
    "* that single argument can be set, list, tuple, dictionary\n",
    "* It automatically converts into a set and adds to the set\n"
   ]
  },
  {
   "cell_type": "code",
   "execution_count": 18,
   "id": "74dada2a",
   "metadata": {},
   "outputs": [
    {
     "name": "stdout",
     "output_type": "stream",
     "text": [
      "{1, 2, 3, 4, 5, 20, 10}\n"
     ]
    }
   ],
   "source": [
    "setSample.update([5,10])\n",
    "print(setSample)"
   ]
  },
  {
   "cell_type": "markdown",
   "id": "f5ba0869",
   "metadata": {},
   "source": [
    "##### Dictionary Methods"
   ]
  },
  {
   "cell_type": "code",
   "execution_count": 19,
   "id": "8a433f14",
   "metadata": {},
   "outputs": [
    {
     "name": "stdout",
     "output_type": "stream",
     "text": [
      "{1: 'first', 'second': 2, 3: 3, 'four': 4}\n"
     ]
    }
   ],
   "source": [
    "dictSample = {1:'first', 'second':2, 3:3, 'four':4}\n",
    "print(dictSample)"
   ]
  },
  {
   "cell_type": "code",
   "execution_count": 20,
   "id": "bc29ce07",
   "metadata": {},
   "outputs": [
    {
     "name": "stdout",
     "output_type": "stream",
     "text": [
      "{1: 'first', 'second': 2, 3: 3, 'four': 4, 'five': 5}\n"
     ]
    }
   ],
   "source": [
    "dictSample['five'] = 5\n",
    "print(dictSample)"
   ]
  },
  {
   "cell_type": "code",
   "execution_count": 24,
   "id": "7bd4675f",
   "metadata": {},
   "outputs": [
    {
     "name": "stdout",
     "output_type": "stream",
     "text": [
      "{1: 'first', 'second': 2, 3: 3, 'four': 4, 'five': 5}\n"
     ]
    }
   ],
   "source": [
    "dictSample.update(five = 5)\n",
    "print(dictSample)"
   ]
  },
  {
   "cell_type": "code",
   "execution_count": null,
   "id": "9541c550",
   "metadata": {},
   "outputs": [
    {
     "data": {
      "text/plain": [
       "[1, 'second', 3, 'four', 'five']"
      ]
     },
     "execution_count": 22,
     "metadata": {},
     "output_type": "execute_result"
    }
   ],
   "source": [
    "list(dictSample) #returns list of all the keys"
   ]
  },
  {
   "cell_type": "code",
   "execution_count": 25,
   "id": "bd8c6f89",
   "metadata": {},
   "outputs": [
    {
     "data": {
      "text/plain": [
       "5"
      ]
     },
     "execution_count": 25,
     "metadata": {},
     "output_type": "execute_result"
    }
   ],
   "source": [
    "len(dictSample)"
   ]
  },
  {
   "cell_type": "code",
   "execution_count": 26,
   "id": "66a5ef94",
   "metadata": {},
   "outputs": [
    {
     "data": {
      "text/plain": [
       "5"
      ]
     },
     "execution_count": 26,
     "metadata": {},
     "output_type": "execute_result"
    }
   ],
   "source": [
    "dictSample.get(\"five\")"
   ]
  },
  {
   "cell_type": "code",
   "execution_count": 27,
   "id": "dcbf28ba",
   "metadata": {},
   "outputs": [
    {
     "data": {
      "text/plain": [
       "dict_keys([1, 'second', 3, 'four', 'five'])"
      ]
     },
     "execution_count": 27,
     "metadata": {},
     "output_type": "execute_result"
    }
   ],
   "source": [
    "dictSample.keys()"
   ]
  },
  {
   "cell_type": "code",
   "execution_count": 28,
   "id": "65c812f5",
   "metadata": {},
   "outputs": [
    {
     "data": {
      "text/plain": [
       "dict_items([(1, 'first'), ('second', 2), (3, 3), ('four', 4), ('five', 5)])"
      ]
     },
     "execution_count": 28,
     "metadata": {},
     "output_type": "execute_result"
    }
   ],
   "source": [
    "dictSample.items()"
   ]
  },
  {
   "cell_type": "markdown",
   "id": "e4c959e0",
   "metadata": {},
   "source": [
    "insert()- insert the element at the specified index of the object\n",
    "* supported datatypes array, list"
   ]
  },
  {
   "cell_type": "code",
   "execution_count": 29,
   "id": "354eba8c",
   "metadata": {},
   "outputs": [
    {
     "name": "stdout",
     "output_type": "stream",
     "text": [
      "array('i', [1, 2, 3, 4, 3])\n"
     ]
    }
   ],
   "source": [
    "print(arrSample)"
   ]
  },
  {
   "cell_type": "code",
   "execution_count": null,
   "id": "56a52fa3",
   "metadata": {},
   "outputs": [
    {
     "name": "stdout",
     "output_type": "stream",
     "text": [
      "array('i', [1, 100, 2, 3, 4, 3])\n"
     ]
    }
   ],
   "source": [
    "arrSample.insert(1,100) #.insert(position, value)\n",
    "print(arrSample)"
   ]
  },
  {
   "cell_type": "code",
   "execution_count": 32,
   "id": "6b8ebedc",
   "metadata": {},
   "outputs": [
    {
     "name": "stdout",
     "output_type": "stream",
     "text": [
      "[1, 2, 'a', 'sam', 2, 24, 24, [2, 4]]\n"
     ]
    }
   ],
   "source": [
    "lstSample.insert(5,24)\n",
    "print(lstSample)"
   ]
  },
  {
   "cell_type": "markdown",
   "id": "5efa89ee",
   "metadata": {},
   "source": [
    "pop() - remove the element at the given index from the object and prints the same"
   ]
  },
  {
   "cell_type": "markdown",
   "id": "5f3134a1",
   "metadata": {},
   "source": [
    "* default value is -1, which returns the last item\n",
    "* support datatype: array, list, set, dictionary"
   ]
  },
  {
   "cell_type": "code",
   "execution_count": 33,
   "id": "96804a69",
   "metadata": {},
   "outputs": [
    {
     "data": {
      "text/plain": [
       "3"
      ]
     },
     "execution_count": 33,
     "metadata": {},
     "output_type": "execute_result"
    }
   ],
   "source": [
    "arrSample.pop() "
   ]
  },
  {
   "cell_type": "code",
   "execution_count": 34,
   "id": "f38f8fbc",
   "metadata": {},
   "outputs": [
    {
     "name": "stdout",
     "output_type": "stream",
     "text": [
      "[1, 2, 'a', 'sam', 2, 24, 24, [2, 4]]\n"
     ]
    },
    {
     "data": {
      "text/plain": [
       "2"
      ]
     },
     "execution_count": 34,
     "metadata": {},
     "output_type": "execute_result"
    }
   ],
   "source": [
    "print(lstSample)\n",
    "lstSample.pop(4)"
   ]
  },
  {
   "cell_type": "code",
   "execution_count": 35,
   "id": "25c87d0a",
   "metadata": {},
   "outputs": [
    {
     "name": "stdout",
     "output_type": "stream",
     "text": [
      "{1: 'first', 'second': 2, 3: 3, 'four': 4, 'five': 5}\n"
     ]
    },
    {
     "data": {
      "text/plain": [
       "2"
      ]
     },
     "execution_count": 35,
     "metadata": {},
     "output_type": "execute_result"
    }
   ],
   "source": [
    "print(dictSample)\n",
    "dictSample.pop('second')"
   ]
  },
  {
   "cell_type": "code",
   "execution_count": 36,
   "id": "4fb957d4",
   "metadata": {},
   "outputs": [
    {
     "name": "stdout",
     "output_type": "stream",
     "text": [
      "{1: 'first', 3: 3, 'four': 4, 'five': 5}\n"
     ]
    }
   ],
   "source": [
    "print(dictSample)"
   ]
  },
  {
   "cell_type": "code",
   "execution_count": 37,
   "id": "0bedb9bd",
   "metadata": {},
   "outputs": [
    {
     "data": {
      "text/plain": [
       "3"
      ]
     },
     "execution_count": 37,
     "metadata": {},
     "output_type": "execute_result"
    }
   ],
   "source": [
    "dictSample.pop(3)"
   ]
  },
  {
   "cell_type": "markdown",
   "id": "2dd9cbd0",
   "metadata": {},
   "source": [
    "Set is an unorders sequence and hence pop is not used"
   ]
  },
  {
   "cell_type": "markdown",
   "id": "46cad61c",
   "metadata": {},
   "source": [
    "The remove() method removes the first occurrence of the element with the specified value\n",
    "* supported by array, list, dictionary, set"
   ]
  },
  {
   "cell_type": "code",
   "execution_count": 38,
   "id": "4f9b1e5d",
   "metadata": {},
   "outputs": [
    {
     "name": "stdout",
     "output_type": "stream",
     "text": [
      "array('i', [1, 100, 2, 3, 4])\n"
     ]
    }
   ],
   "source": [
    "print(arrSample)"
   ]
  },
  {
   "cell_type": "code",
   "execution_count": 39,
   "id": "8d119991",
   "metadata": {},
   "outputs": [
    {
     "ename": "ValueError",
     "evalue": "array.remove(x): x not in array",
     "output_type": "error",
     "traceback": [
      "\u001b[31m---------------------------------------------------------------------------\u001b[39m",
      "\u001b[31mValueError\u001b[39m                                Traceback (most recent call last)",
      "\u001b[36mCell\u001b[39m\u001b[36m \u001b[39m\u001b[32mIn[39]\u001b[39m\u001b[32m, line 1\u001b[39m\n\u001b[32m----> \u001b[39m\u001b[32m1\u001b[39m \u001b[43marrSample\u001b[49m\u001b[43m.\u001b[49m\u001b[43mremove\u001b[49m\u001b[43m(\u001b[49m\u001b[32;43m0\u001b[39;49m\u001b[43m)\u001b[49m\n",
      "\u001b[31mValueError\u001b[39m: array.remove(x): x not in array"
     ]
    }
   ],
   "source": [
    "arrSample.remove(0)"
   ]
  },
  {
   "cell_type": "code",
   "execution_count": 40,
   "id": "d35ae9df",
   "metadata": {},
   "outputs": [
    {
     "name": "stdout",
     "output_type": "stream",
     "text": [
      "array('i', [1, 100, 3, 4])\n"
     ]
    }
   ],
   "source": [
    "arrSample.remove(2)\n",
    "print(arrSample)"
   ]
  },
  {
   "cell_type": "code",
   "execution_count": 41,
   "id": "540520f6",
   "metadata": {},
   "outputs": [
    {
     "name": "stdout",
     "output_type": "stream",
     "text": [
      "[1, 2, 'a', 'sam', 24, 24, [2, 4]]\n",
      "[1, 2, 'a', 24, 24, [2, 4]]\n"
     ]
    }
   ],
   "source": [
    "print(lstSample)\n",
    "lstSample.remove('sam')\n",
    "print(lstSample)"
   ]
  },
  {
   "cell_type": "code",
   "execution_count": 42,
   "id": "8ae9aa08",
   "metadata": {},
   "outputs": [
    {
     "name": "stdout",
     "output_type": "stream",
     "text": [
      "{1, 2, 3, 4, 5, 20, 10}\n"
     ]
    },
    {
     "ename": "KeyError",
     "evalue": "57",
     "output_type": "error",
     "traceback": [
      "\u001b[31m---------------------------------------------------------------------------\u001b[39m",
      "\u001b[31mKeyError\u001b[39m                                  Traceback (most recent call last)",
      "\u001b[36mCell\u001b[39m\u001b[36m \u001b[39m\u001b[32mIn[42]\u001b[39m\u001b[32m, line 2\u001b[39m\n\u001b[32m      1\u001b[39m \u001b[38;5;28mprint\u001b[39m(setSample)\n\u001b[32m----> \u001b[39m\u001b[32m2\u001b[39m \u001b[43msetSample\u001b[49m\u001b[43m.\u001b[49m\u001b[43mremove\u001b[49m\u001b[43m(\u001b[49m\u001b[32;43m57\u001b[39;49m\u001b[43m)\u001b[49m\n",
      "\u001b[31mKeyError\u001b[39m: 57"
     ]
    }
   ],
   "source": [
    "print(setSample)\n",
    "setSample.remove(57)"
   ]
  },
  {
   "cell_type": "code",
   "execution_count": 43,
   "id": "69027652",
   "metadata": {},
   "outputs": [
    {
     "name": "stdout",
     "output_type": "stream",
     "text": [
      "{1, 2, 3, 4, 5, 20, 10}\n"
     ]
    }
   ],
   "source": [
    "setSample.discard(57)\n",
    "print(setSample)\n"
   ]
  },
  {
   "cell_type": "markdown",
   "id": "df82c5fa",
   "metadata": {},
   "source": [
    "del: delete the entire object of any data type\n",
    "* syntax: del obj_name\n",
    "* del is a Python keyword\n",
    "* obj_name can be variable, user-defined objects, lists, items within lists, dictionary etc."
   ]
  },
  {
   "cell_type": "code",
   "execution_count": 48,
   "id": "e0ee8268",
   "metadata": {},
   "outputs": [
    {
     "ename": "NameError",
     "evalue": "name 'setSample' is not defined",
     "output_type": "error",
     "traceback": [
      "\u001b[31m---------------------------------------------------------------------------\u001b[39m",
      "\u001b[31mNameError\u001b[39m                                 Traceback (most recent call last)",
      "\u001b[36mCell\u001b[39m\u001b[36m \u001b[39m\u001b[32mIn[48]\u001b[39m\u001b[32m, line 1\u001b[39m\n\u001b[32m----> \u001b[39m\u001b[32m1\u001b[39m \u001b[38;5;28;01mdel\u001b[39;00m \u001b[43msetSample\u001b[49m\n\u001b[32m      2\u001b[39m \u001b[38;5;28mprint\u001b[39m(setSample)\n",
      "\u001b[31mNameError\u001b[39m: name 'setSample' is not defined"
     ]
    }
   ],
   "source": [
    "del setSample\n",
    "print(setSample)\n"
   ]
  },
  {
   "cell_type": "code",
   "execution_count": 49,
   "id": "4f72a257",
   "metadata": {},
   "outputs": [
    {
     "ename": "NameError",
     "evalue": "name 'arrSample' is not defined",
     "output_type": "error",
     "traceback": [
      "\u001b[31m---------------------------------------------------------------------------\u001b[39m",
      "\u001b[31mNameError\u001b[39m                                 Traceback (most recent call last)",
      "\u001b[36mCell\u001b[39m\u001b[36m \u001b[39m\u001b[32mIn[49]\u001b[39m\u001b[32m, line 2\u001b[39m\n\u001b[32m      1\u001b[39m \u001b[38;5;28;01mdel\u001b[39;00m arrSample\n\u001b[32m----> \u001b[39m\u001b[32m2\u001b[39m \u001b[38;5;28mprint\u001b[39m(\u001b[43marrSample\u001b[49m)\n",
      "\u001b[31mNameError\u001b[39m: name 'arrSample' is not defined"
     ]
    }
   ],
   "source": [
    "del arrSample\n",
    "print(arrSample)"
   ]
  },
  {
   "cell_type": "code",
   "execution_count": 50,
   "id": "8db9bcef",
   "metadata": {},
   "outputs": [
    {
     "name": "stdout",
     "output_type": "stream",
     "text": [
      "[1, 2, 24, 24, [2, 4]]\n"
     ]
    }
   ],
   "source": [
    "del lstSample[2]\n",
    "print(lstSample)"
   ]
  },
  {
   "cell_type": "code",
   "execution_count": 51,
   "id": "7865ca8e",
   "metadata": {},
   "outputs": [
    {
     "name": "stdout",
     "output_type": "stream",
     "text": [
      "[1, 24, [2, 4]]\n"
     ]
    }
   ],
   "source": [
    "del lstSample[1:3]\n",
    "print(lstSample)"
   ]
  },
  {
   "cell_type": "code",
   "execution_count": 52,
   "id": "a5b308b1",
   "metadata": {},
   "outputs": [
    {
     "name": "stdout",
     "output_type": "stream",
     "text": [
      "[]\n"
     ]
    }
   ],
   "source": [
    "del lstSample[:]\n",
    "print(lstSample)"
   ]
  },
  {
   "cell_type": "code",
   "execution_count": 53,
   "id": "de6a98e9",
   "metadata": {},
   "outputs": [
    {
     "ename": "NameError",
     "evalue": "name 'dictSample' is not defined",
     "output_type": "error",
     "traceback": [
      "\u001b[31m---------------------------------------------------------------------------\u001b[39m",
      "\u001b[31mNameError\u001b[39m                                 Traceback (most recent call last)",
      "\u001b[36mCell\u001b[39m\u001b[36m \u001b[39m\u001b[32mIn[53]\u001b[39m\u001b[32m, line 2\u001b[39m\n\u001b[32m      1\u001b[39m \u001b[38;5;28;01mdel\u001b[39;00m dictSample\n\u001b[32m----> \u001b[39m\u001b[32m2\u001b[39m \u001b[38;5;28mprint\u001b[39m(\u001b[43mdictSample\u001b[49m)\n",
      "\u001b[31mNameError\u001b[39m: name 'dictSample' is not defined"
     ]
    }
   ],
   "source": [
    "del dictSample\n",
    "print(dictSample)"
   ]
  },
  {
   "cell_type": "markdown",
   "id": "8f9d5f3c",
   "metadata": {},
   "source": [
    "The extend() method adds the specified list elements (or any iterable - list, set,tuple, etc) to the end of the current list"
   ]
  },
  {
   "cell_type": "markdown",
   "id": "2df24e1f",
   "metadata": {},
   "source": [
    "Array oprations"
   ]
  },
  {
   "cell_type": "code",
   "execution_count": 58,
   "id": "c0d84c8c",
   "metadata": {},
   "outputs": [
    {
     "name": "stdout",
     "output_type": "stream",
     "text": [
      "array('i', [1, 2, 3, 4, 4, 5, 3, 5])\n"
     ]
    }
   ],
   "source": [
    "from array import *\n",
    "arrSample = array('i',[1,2,3,4])\n",
    "arrSample.extend((4,5,3,5))\n",
    "print(arrSample)"
   ]
  },
  {
   "cell_type": "code",
   "execution_count": 59,
   "id": "34284ef9",
   "metadata": {},
   "outputs": [
    {
     "ename": "TypeError",
     "evalue": "'str' object cannot be interpreted as an integer",
     "output_type": "error",
     "traceback": [
      "\u001b[31m---------------------------------------------------------------------------\u001b[39m",
      "\u001b[31mTypeError\u001b[39m                                 Traceback (most recent call last)",
      "\u001b[36mCell\u001b[39m\u001b[36m \u001b[39m\u001b[32mIn[59]\u001b[39m\u001b[32m, line 1\u001b[39m\n\u001b[32m----> \u001b[39m\u001b[32m1\u001b[39m \u001b[38;5;28mprint\u001b[39m(\u001b[43marrSample\u001b[49m\u001b[43m.\u001b[49m\u001b[43mextend\u001b[49m\u001b[43m(\u001b[49m\u001b[43m[\u001b[49m\u001b[33;43m'\u001b[39;49m\u001b[33;43msam\u001b[39;49m\u001b[33;43m'\u001b[39;49m\u001b[43m]\u001b[49m\u001b[43m)\u001b[49m)\n",
      "\u001b[31mTypeError\u001b[39m: 'str' object cannot be interpreted as an integer"
     ]
    }
   ],
   "source": [
    "print(arrSample.extend(['sam']))"
   ]
  },
  {
   "cell_type": "code",
   "execution_count": 60,
   "id": "234630ea",
   "metadata": {},
   "outputs": [
    {
     "name": "stdout",
     "output_type": "stream",
     "text": [
      "array('i', [1, 2, 3, 4, 4, 5, 3, 5, 3, 4])\n"
     ]
    },
    {
     "data": {
      "text/plain": [
       "[1, 2, 3, 4, 4, 5, 3, 5, 3, 4]"
      ]
     },
     "execution_count": 60,
     "metadata": {},
     "output_type": "execute_result"
    }
   ],
   "source": [
    "arrSample.fromlist([3,4])\n",
    "print(arrSample)\n",
    "\n",
    "arrSample.tolist()"
   ]
  },
  {
   "cell_type": "markdown",
   "id": "893bd983",
   "metadata": {},
   "source": [
    "#### setSample\n",
    "Sets can be used to perform mathematical set operation like union, intersection, symmetric difference etc"
   ]
  },
  {
   "cell_type": "code",
   "execution_count": 61,
   "id": "26a55b94",
   "metadata": {},
   "outputs": [
    {
     "name": "stdout",
     "output_type": "stream",
     "text": [
      "{24, 'example', 'data', 87.5}\n"
     ]
    }
   ],
   "source": [
    "A = {'example',24,87.5,'data',24,'data'}\n",
    "print(A)"
   ]
  },
  {
   "cell_type": "code",
   "execution_count": 62,
   "id": "8159901c",
   "metadata": {},
   "outputs": [
    {
     "data": {
      "text/plain": [
       "{24, 87.5}"
      ]
     },
     "execution_count": 62,
     "metadata": {},
     "output_type": "execute_result"
    }
   ],
   "source": [
    "B = {24,87.5}\n",
    "B"
   ]
  },
  {
   "cell_type": "code",
   "execution_count": 63,
   "id": "f5ab38c5",
   "metadata": {},
   "outputs": [
    {
     "name": "stdout",
     "output_type": "stream",
     "text": [
      "{87.5, 24, 'example', 'data'}\n"
     ]
    },
    {
     "data": {
      "text/plain": [
       "{24, 87.5, 'data', 'example'}"
      ]
     },
     "execution_count": 63,
     "metadata": {},
     "output_type": "execute_result"
    }
   ],
   "source": [
    "print(A | B)\n",
    "A.union(B)"
   ]
  },
  {
   "cell_type": "code",
   "execution_count": 64,
   "id": "e1b3b1f8",
   "metadata": {},
   "outputs": [
    {
     "name": "stdout",
     "output_type": "stream",
     "text": [
      "{24, 87.5}\n"
     ]
    },
    {
     "data": {
      "text/plain": [
       "{24, 87.5}"
      ]
     },
     "execution_count": 64,
     "metadata": {},
     "output_type": "execute_result"
    }
   ],
   "source": [
    "print(A & B)\n",
    "A.intersection(B)"
   ]
  },
  {
   "cell_type": "markdown",
   "id": "9325ca82",
   "metadata": {},
   "source": [
    "# <b>Numpy</b>"
   ]
  },
  {
   "cell_type": "code",
   "execution_count": 65,
   "id": "dbe31ad2",
   "metadata": {},
   "outputs": [
    {
     "name": "stdout",
     "output_type": "stream",
     "text": [
      "[1, 2, 3, 4, 5, 6]\n"
     ]
    }
   ],
   "source": [
    "my_list = [1, 2, 3,4, 5,6]\n",
    "print(my_list)"
   ]
  },
  {
   "cell_type": "code",
   "execution_count": 67,
   "id": "d2b61665",
   "metadata": {},
   "outputs": [],
   "source": [
    "import numpy as np"
   ]
  },
  {
   "cell_type": "code",
   "execution_count": 68,
   "id": "c55050cc",
   "metadata": {},
   "outputs": [
    {
     "name": "stdout",
     "output_type": "stream",
     "text": [
      "[1 2 3 4 5 6]\n"
     ]
    }
   ],
   "source": [
    "array = np.array(my_list, dtype = int)\n",
    "print(array)"
   ]
  },
  {
   "cell_type": "code",
   "execution_count": 71,
   "id": "ac9834c4",
   "metadata": {},
   "outputs": [
    {
     "name": "stdout",
     "output_type": "stream",
     "text": [
      "<class 'numpy.ndarray'>\n",
      "6\n",
      "1\n",
      "(6,)\n"
     ]
    }
   ],
   "source": [
    "print(type(array))\n",
    "print(len(array))\n",
    "print(array.ndim)\n",
    "print(array.shape)"
   ]
  },
  {
   "cell_type": "code",
   "execution_count": 72,
   "id": "989111f3",
   "metadata": {},
   "outputs": [
    {
     "name": "stdout",
     "output_type": "stream",
     "text": [
      "[[1 2]\n",
      " [3 4]\n",
      " [5 6]]\n"
     ]
    },
    {
     "data": {
      "text/plain": [
       "(3, 2)"
      ]
     },
     "execution_count": 72,
     "metadata": {},
     "output_type": "execute_result"
    }
   ],
   "source": [
    "array2 = array.reshape(3,2)\n",
    "print(array2)\n",
    "array2.shape"
   ]
  },
  {
   "cell_type": "code",
   "execution_count": 74,
   "id": "02fda2f9",
   "metadata": {},
   "outputs": [
    {
     "name": "stdout",
     "output_type": "stream",
     "text": [
      "[[1 2]\n",
      " [3 4]\n",
      " [5 6]]\n",
      "2\n"
     ]
    }
   ],
   "source": [
    "array3 = array.reshape(3,-1)\n",
    "print(array3)\n",
    "\n",
    "print(array3.ndim)"
   ]
  },
  {
   "cell_type": "code",
   "execution_count": 75,
   "id": "43c294e6",
   "metadata": {},
   "outputs": [
    {
     "name": "stdout",
     "output_type": "stream",
     "text": [
      "[[1 2 3 4 5]\n",
      " [2 3 4 5 6]\n",
      " [9 7 6 8 9]]\n",
      "(3, 5)\n"
     ]
    }
   ],
   "source": [
    "my_list2 = [1,2,3,4,5]\n",
    "my_list3 = [2,3,4,5,6]\n",
    "my_list4 = [9,7,6,8,9]\n",
    "\n",
    "mul_arr = np.array([my_list2, my_list3, my_list4])\n",
    "print(mul_arr)\n",
    "\n",
    "print(mul_arr.shape)"
   ]
  },
  {
   "cell_type": "code",
   "execution_count": 76,
   "id": "26f504de",
   "metadata": {},
   "outputs": [
    {
     "data": {
      "text/plain": [
       "array([[1, 2, 3, 4, 5, 2, 3, 4, 5, 6, 9, 7, 6, 8, 9]])"
      ]
     },
     "execution_count": 76,
     "metadata": {},
     "output_type": "execute_result"
    }
   ],
   "source": [
    "mul_arr.reshape(1,15)"
   ]
  },
  {
   "cell_type": "code",
   "execution_count": 77,
   "id": "af6b60be",
   "metadata": {},
   "outputs": [],
   "source": [
    "r = range(24)"
   ]
  },
  {
   "cell_type": "code",
   "execution_count": 78,
   "id": "8d6bb038",
   "metadata": {},
   "outputs": [
    {
     "name": "stdout",
     "output_type": "stream",
     "text": [
      "range(0, 24)\n"
     ]
    }
   ],
   "source": [
    "print(r)"
   ]
  },
  {
   "cell_type": "code",
   "execution_count": 80,
   "id": "fc1dd101",
   "metadata": {},
   "outputs": [
    {
     "name": "stdout",
     "output_type": "stream",
     "text": [
      "[ 0  1  2  3  4  5  6  7  8  9 10 11 12 13 14 15 16 17 18 19 20 21 22 23]\n",
      "1\n"
     ]
    }
   ],
   "source": [
    "a = np.arange(24)\n",
    "print(a)\n",
    "print(a.ndim)"
   ]
  },
  {
   "cell_type": "code",
   "execution_count": 81,
   "id": "df1f7115",
   "metadata": {},
   "outputs": [
    {
     "name": "stdout",
     "output_type": "stream",
     "text": [
      "[[[ 0]\n",
      "  [ 1]\n",
      "  [ 2]\n",
      "  [ 3]]\n",
      "\n",
      " [[ 4]\n",
      "  [ 5]\n",
      "  [ 6]\n",
      "  [ 7]]\n",
      "\n",
      " [[ 8]\n",
      "  [ 9]\n",
      "  [10]\n",
      "  [11]]\n",
      "\n",
      " [[12]\n",
      "  [13]\n",
      "  [14]\n",
      "  [15]]\n",
      "\n",
      " [[16]\n",
      "  [17]\n",
      "  [18]\n",
      "  [19]]\n",
      "\n",
      " [[20]\n",
      "  [21]\n",
      "  [22]\n",
      "  [23]]]\n"
     ]
    }
   ],
   "source": [
    "b = a.reshape(6,4,1)\n",
    "print(b)"
   ]
  },
  {
   "cell_type": "code",
   "execution_count": 82,
   "id": "dfcfab70",
   "metadata": {},
   "outputs": [
    {
     "name": "stdout",
     "output_type": "stream",
     "text": [
      "[[1. 2.]\n",
      " [3. 4.]]\n",
      "[[5. 6.]\n",
      " [7. 8.]]\n"
     ]
    }
   ],
   "source": [
    "x = np.array([[1,2],[3,4]], dtype = np.float64)\n",
    "y = np.array([[5,6],[7,8]], dtype = np.float64)\n",
    "print(x)\n",
    "print(y)"
   ]
  },
  {
   "cell_type": "code",
   "execution_count": 83,
   "id": "60b53602",
   "metadata": {},
   "outputs": [
    {
     "name": "stdout",
     "output_type": "stream",
     "text": [
      "[[ 6.  8.]\n",
      " [10. 12.]]\n",
      "[[ 6.  8.]\n",
      " [10. 12.]]\n"
     ]
    }
   ],
   "source": [
    "print(x+y)\n",
    "print(np.add(x,y)) "
   ]
  },
  {
   "cell_type": "code",
   "execution_count": 84,
   "id": "43f2637c",
   "metadata": {},
   "outputs": [
    {
     "name": "stdout",
     "output_type": "stream",
     "text": [
      "[[-4. -4.]\n",
      " [-4. -4.]]\n",
      "[[-4. -4.]\n",
      " [-4. -4.]]\n"
     ]
    }
   ],
   "source": [
    "print(x-y)\n",
    "print(np.subtract(x,y))"
   ]
  },
  {
   "cell_type": "code",
   "execution_count": 85,
   "id": "953db70a",
   "metadata": {},
   "outputs": [
    {
     "name": "stdout",
     "output_type": "stream",
     "text": [
      "[[ 5. 12.]\n",
      " [21. 32.]]\n",
      "[[ 5. 12.]\n",
      " [21. 32.]]\n"
     ]
    }
   ],
   "source": [
    "print(x*y)\n",
    "print(np.multiply(x,y))"
   ]
  },
  {
   "cell_type": "code",
   "execution_count": 86,
   "id": "a56293c8",
   "metadata": {},
   "outputs": [
    {
     "name": "stdout",
     "output_type": "stream",
     "text": [
      "[[19. 22.]\n",
      " [43. 50.]]\n",
      "[[19. 22.]\n",
      " [43. 50.]]\n"
     ]
    }
   ],
   "source": [
    "print(x.dot(y))\n",
    "print(np.dot(x,y))"
   ]
  },
  {
   "cell_type": "code",
   "execution_count": 87,
   "id": "34937289",
   "metadata": {},
   "outputs": [
    {
     "name": "stdout",
     "output_type": "stream",
     "text": [
      "[[0.2        0.33333333]\n",
      " [0.42857143 0.5       ]]\n",
      "[[0.2        0.33333333]\n",
      " [0.42857143 0.5       ]]\n"
     ]
    }
   ],
   "source": [
    "print(x/y)\n",
    "print(np.divide(x,y))"
   ]
  },
  {
   "cell_type": "code",
   "execution_count": 88,
   "id": "e1bfdb04",
   "metadata": {},
   "outputs": [
    {
     "name": "stdout",
     "output_type": "stream",
     "text": [
      "10.0\n",
      "[[1. 2.]\n",
      " [3. 4.]]\n"
     ]
    }
   ],
   "source": [
    "print(np.sum(x))\n",
    "print(x)"
   ]
  },
  {
   "cell_type": "code",
   "execution_count": null,
   "id": "40f6efe0",
   "metadata": {},
   "outputs": [
    {
     "name": "stdout",
     "output_type": "stream",
     "text": [
      "[4. 6.]\n"
     ]
    }
   ],
   "source": [
    "print(np.sum(x, axis=0)) # comuptes the sum of each column"
   ]
  },
  {
   "cell_type": "code",
   "execution_count": 90,
   "id": "f7a3a3f9",
   "metadata": {},
   "outputs": [
    {
     "name": "stdout",
     "output_type": "stream",
     "text": [
      "[3. 7.]\n"
     ]
    }
   ],
   "source": [
    "print(np.sum(x, axis=1)) "
   ]
  },
  {
   "cell_type": "code",
   "execution_count": null,
   "id": "b5902587",
   "metadata": {},
   "outputs": [],
   "source": []
  }
 ],
 "metadata": {
  "kernelspec": {
   "display_name": "Python 3",
   "language": "python",
   "name": "python3"
  },
  "language_info": {
   "codemirror_mode": {
    "name": "ipython",
    "version": 3
   },
   "file_extension": ".py",
   "mimetype": "text/x-python",
   "name": "python",
   "nbconvert_exporter": "python",
   "pygments_lexer": "ipython3",
   "version": "3.13.0"
  }
 },
 "nbformat": 4,
 "nbformat_minor": 5
}
